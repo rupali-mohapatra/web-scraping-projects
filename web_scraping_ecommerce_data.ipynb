{
 "cells": [
  {
   "cell_type": "markdown",
   "id": "6ca828c4",
   "metadata": {},
   "source": [
    "### Task 2: Scrapping market data\n",
    "#### Choose an e-commerce website like mediamarket, elgiganten, etc.\n",
    "#### Go to search page of any product and scrape name and cost of the product.\n",
    "#### Search results from one page is enough\n",
    "#### Store these details in a csv file"
   ]
  },
  {
   "cell_type": "markdown",
   "id": "bd0b6067",
   "metadata": {},
   "source": [
    "#### Website - https://www.ebay.com/e/row/luxury-sunglasses-row"
   ]
  },
  {
   "cell_type": "code",
   "execution_count": 1,
   "id": "1268240c",
   "metadata": {},
   "outputs": [],
   "source": [
    "import requests\n",
    "from bs4 import BeautifulSoup\n",
    "import csv"
   ]
  },
  {
   "cell_type": "code",
   "execution_count": 2,
   "id": "a4e3898c",
   "metadata": {},
   "outputs": [],
   "source": [
    "search_url = \"https://www.ebay.com/e/row/luxury-sunglasses-row\"\n",
    "USER_AGENT = \"Mozilla/5.0 (Macintosh; Intel Mac OS X 10.14; rv:65.0) Gecko/20100101Firefox/65.0\"\n",
    "headers = {\"user-agent\": USER_AGENT}"
   ]
  },
  {
   "cell_type": "code",
   "execution_count": 3,
   "id": "6866f055",
   "metadata": {},
   "outputs": [
    {
     "name": "stdout",
     "output_type": "stream",
     "text": [
      "Status Code: 200\n"
     ]
    }
   ],
   "source": [
    "response = requests.get(search_url, headers=headers)\n",
    "print(\"Status Code:\", response.status_code)"
   ]
  },
  {
   "cell_type": "code",
   "execution_count": 4,
   "id": "26d6a561",
   "metadata": {},
   "outputs": [
    {
     "name": "stdout",
     "output_type": "stream",
     "text": [
      "<!DOCTYPE html>\n",
      "<!--[if IE 9]><html class=\"ie9\" lang=\"en\"><![endif]-->\n",
      "<!--[if gt IE 9]><!-->\n",
      "<html lang=\"en\">\n",
      " <!--<![endif]-->\n",
      " <head>\n",
      "  <meta charset=\"utf-8\"/>\n",
      "  <meta content=\"See the world in style | eBay. Select your pre-loved sunglasses.\" name=\"twitter:title\">\n",
      "   <meta content=\"@eBay\" name=\"twitter:site\"/>\n",
      "   <meta content=\"https://ir.ebaystatic.com/cr/v/c1/ebay-logo-1-1200x1200-margin.png\" name=\"twitter:image\"/>\n",
      "   <meta content=\"website\" property=\"og:type\"/>\n",
      "   <meta content=\"Select your pre-loved sunglasses.\" name=\"description\"/>\n",
      "   <meta content=\"https://www.ebay.com/e/row/luxury-sunglasses-row\" property=\"og:url\"/>\n",
      "   <meta content=\"noindex\" name=\"robots\"/>\n",
      "   <meta content=\"Select your pre-loved sunglasses.\" property=\"og:description\"/>\n",
      "   <meta content=\"https://ir.ebaystatic.com/cr/v/c1/ebay-logo-1-1200x630-margin.png\" property=\"og:image\"/>\n",
      "   <meta content=\"Select your pre-loved sunglasses.\" name=\"twitter:description\"/>\n",
      "   <meta content=\"102628213125203\" property=\"fb:app_i\n"
     ]
    }
   ],
   "source": [
    "if response.status_code == 200:\n",
    "    soup=BeautifulSoup(response.content, \"html.parser\")\n",
    "    print(soup.prettify()[:1000])\n",
    "else:\n",
    "    print(\"Failed to retrieve the webpage\")"
   ]
  },
  {
   "cell_type": "code",
   "execution_count": 5,
   "id": "fbea7959",
   "metadata": {},
   "outputs": [],
   "source": [
    "#Array to store the product name & price\n",
    "products = []"
   ]
  },
  {
   "cell_type": "code",
   "execution_count": 11,
   "id": "98903b61",
   "metadata": {},
   "outputs": [
    {
     "name": "stdout",
     "output_type": "stream",
     "text": [
      "Found 60 product cards.\n"
     ]
    }
   ],
   "source": [
    "# Find all product containers (product name and price)\n",
    "product_cards = soup.find_all('div', class_='s-item__info')\n",
    "print(f\"Found {len(product_cards)} product cards.\")"
   ]
  },
  {
   "cell_type": "code",
   "execution_count": 12,
   "id": "28718c68",
   "metadata": {},
   "outputs": [
    {
     "name": "stdout",
     "output_type": "stream",
     "text": [
      "Product 1: Oakley Penny Titanium Ice Sunglasses with Box Hardcase Softcase, 39,382.22 SEK\n",
      "Product 2: Bam Margera Electric Sunglasses BSG II 2 Purple Chex & Grey CKY Jackass FreePost, 3,487.08 SEK\n",
      "Product 3: Oakley X-Metal X-men Sunglasses Juliet Ruby Lens Serial X0 Limited to 5000, 27,567.52 SEK\n",
      "Product 4: HUBLOT Sunglasses Silver Frame Blue Gradient Lenses Titanium 136-00-145, 2,984.66 SEK\n",
      "Product 5: oakley penny 24k sunglasses Juliet one-of-a-kind sports valuable, 34,459.43 SEK\n",
      "Product 6: Jean Paul Gaultier Sunglasses UV Protection 56-6202 Plastic Frame Very rare, 559,643.49 SEK\n",
      "Product 7: Elvis EP Logo Sunglasses, 18,136.59 SEK\n",
      "Product 8: Oakley Over The Top Sunglasses, 9,799.36 SEK\n",
      "Product 9: Versace Sunglasses Black Gold Medusa Octagon Angular Biggie MOD VE 3320-U GB1, 2,021.82 SEK\n",
      "Product 10: Other Brands KUBORAUM Sunglasses Plastic BLK Men's MASKE P2, 2,035.65 SEK\n",
      "Product 11: OAKLEY Sunglasses OO4088-01 TAILEND TITANIUM/ BLACK IRIDIUM AUTHENTIC 56mm, 1,336.93 SEK\n",
      "Product 12: Cazal 951 Sunglasses Brown Gradient Used Dita, 5,627.01 SEK\n",
      "Product 13: Cazal 964 Teardrop Sunglasses, 1,298,968.29 SEK\n",
      "Product 14: Cartier Silver Rectangular Men's Sunglasses 60-14-140 CT0102S 004 w/Box&Papers, 4,922.79 SEK\n",
      "Product 15: Randolph Aviators Gunmetal/Acadian Aviator Af301 Polarized Sunglasses 55-20-140, 1,554.05 SEK\n",
      "Product 16: Authentic Christian Dior Signature S2U10A0 Blk Rectangle Sunglasses Gry Lens, 1,368.02 SEK\n",
      "Product 17: OAKLEY Sunglasses OO4088-04 TAILEND Pewter/Fire Iridium AUTHENTIC 56mm, 1,544.20 SEK\n",
      "Product 18: Versace Sunglasses Gold Black Glossy Square Medusa MOD VE 1274 1002 55mm, 1,804.71 SEK\n",
      "Product 19: Persol Ratti 58230 Terminator Model, 28,478.29 SEK\n",
      "Product 20: Arnette Hotcakes Sunglasses 90s Black Frame × Yellow Lenses with Box and Case, 6,207.90 SEK\n",
      "Product 21: Vintage Oakley Moon Black Sunglasses Frames - AUTHENTIC, 3,109.13 SEK\n",
      "Product 22: Versace Sunglasses Black Gold Square Metal Glossy MOD VE 1285 1002 56mm [B], 1,926.84 SEK\n",
      "Product 23: OAKLEY Sunglasses OO4088-02 TAILEND Pewter w/ Ice Iridium AUTHENTIC 56mm, 1,544.20 SEK\n",
      "Product 24: PERSOL 2720-S 24/31 Sunglasses - James Bond - Agent 007 - Casino Royale, 3,368.22 SEK\n",
      "Product 25: OAKLEY MEDUSA HAT Leather Helmet L Size Rare Mad Scientist W/ box storage bag, 34,176.29 SEK\n",
      "Product 26: OAKLEY Juliet X-metal Men's Sunglasses Eyewear Square Black Frame Auth, 6,724.95 SEK\n",
      "Product 27: Louis Vuitton Z2516U Sunglasses, 1.0 Millionaire Black Gold Shield Type Men's, 13,557.67 SEK\n",
      "Product 28: OAKLEY SUNGLASSES UNUSED #50BD, 6,600.58 SEK\n",
      "Product 29: Ray-Ban RB 2140 Wayfarer Special Series #9 Sunglasses w/Case, 1,502.75 SEK\n",
      "Product 30: Oakley Monster Dog Custom Polarized Sunglasses Boxed, 5,171.52 SEK\n",
      "Product 31: GUCCI Vintage Sunglasses Black Purple GG Distorted, 1,191.83 SEK\n",
      "Product 32: Oliver Peoples Victory 58 VFX Twenty Years Sunglasses Gradient Lenses 58□17-135, 4,558.92 SEK\n",
      "Product 33: 90s BLACK FLYS Sunglasses DAMIAN FLY III Discontinued, 2,259.20 SEK\n",
      "Product 34: Dolce & Gabbana 2021 Black Pilot Metal Sunglasses DG 2231 3276/87 270924, 1,886.13 SEK\n",
      "Product 35: Read! Oakley Badman Silver Sunglasses Frames, 1,761.74 SEK\n",
      "Product 36: VERSACE Sunglasses MOD.2175 VE2175 1252/11 GOLD/ GRAY GRADIENT AUTHENTIC ITALY, 1,129.65 SEK\n",
      "Product 37: Oakley X Metal XX TIO2 Titanium Dioxide Black Iridium Lens Serial# Bigger Juliet, 15,545.55 SEK\n",
      "Product 38: Oakley Frogskins Deuce Coupe Collection Sunglasses 24-316 Sulphur/Black Iridium, 1,243.55 SEK\n",
      "Product 39: EYEVAN Men's Women's ACETATE TITANIUM SUNGLASSES 7285 717 C.3320, 4,196.81 SEK\n",
      "Product 40: Oakley Women's Miss Conduct Sunglasses Pacific Grey OO9123-03 137 Made In USA, 1,450.82 SEK\n",
      "Product 41: Prada Sunglasses Black Glossy Square Red Linea Rossa PS02OV VPS 02O 1AB-1O1 55mm, 1,791.15 SEK\n",
      "Product 42: LOUIS VUITTON LV Sleek Square sunglasses Z2062E Plastic Black Used mens, 6,726.09 SEK\n",
      "Product 43: Oakley OO4123-06 HOLBROOK™ METAL PRIZM™ POLARIZED Matte Gunmetal AUTHENTIC, 1,129.65 SEK\n",
      "Product 44: Versace Sunglasses Black Gold Medusa Metal Square MOD VE 1285 1443 56mm, 1,791.15 SEK\n",
      "Product 45: Oakley 13 11 Sunglasses Eyewear Oo9376-0133 With Special Case _33313, 7,295.06 SEK\n",
      "Product 46: Prada Sunglasses Blue Black Triangle Symbole Marble PR10ZV VPR 10Z 18D-1O1 53mm, 2,157.52 SEK\n",
      "Product 47: CHANEL Vintage Sunglasses Silver 45002 09613, 3,014.09 SEK\n",
      "Product 48: Versace Sunglasses Brown Grey Transparent Square Black Medusa MOD VE 3350 5436, 1,886.13 SEK\n",
      "Product 49: Versace Sunglasses 2003 Vintage Rectangle Black Gunmetal MOD 2021 1001/11 210924, 2,700.29 SEK\n",
      "Product 50: RayBan B&L Leathers Glasses ORIGINAL Vintage Box Sunglasses Bausch & Lomb, 3,399.50 SEK\n",
      "Product 51: Gucci Sunglasses 1997 Vintage Brown Gold Small Rectangle GG 2522/S 5T7 230924, 2,510.32 SEK\n",
      "Product 52: Chrome Hearts Size: 49 23-141 CHIRP CHIRP Flare Knee Temple Sunglasses, 21,411.65 SEK\n",
      "Product 53: Gianni Versace Sunglasses metal Black Auth ar12440, 1,334.85 SEK\n",
      "Product 54: Oakley OO Wire Michael Jordan Sunglasses Pewter/Positive Red Iridium A Wire, 2,280.03 SEK\n",
      "Product 55: Versace Sunglasses Black Grey Transparent Square Medusa MOD VE 3346 593 55mm, 1,886.13 SEK\n",
      "Product 56: Oakley Splice Sunglasses Vintage Made In The Usa w/Case Discontinued Model, 3,698.83 SEK\n",
      "Product 57: [Hard to find]  John Galliano sunglasses JOHN GALLIANO, 5,220.23 SEK\n",
      "Product 58: USED OAKLEY SUNGLASSES VERYGOOD R-5E55, 9,346.98 SEK\n",
      "Product 59: GIANNI VERSACE Sunglasses SLV BLK men 27-1054, 2,035.65 SEK\n",
      "Product 60: Authentic Ray-Ban Bausch Lomb Vintage 1995 Sunglasses Spinal Tap Brown W2665, 2,700.29 SEK\n"
     ]
    }
   ],
   "source": [
    "for i, card in enumerate(product_cards):\n",
    "    # Extracting product name\n",
    "    product_name = card.find('h3', class_='s-item__title').get_text(strip=True) if card.find('h3', class_='s-item__title') else 'No name available'\n",
    "    \n",
    "    # Extracting product price\n",
    "    product_price = card.find('span', class_='s-item__price').get_text(strip=True) if card.find('span', class_='s-item__price') else 'No price available'\n",
    "    \n",
    "    # Printing each product to verify the extraction\n",
    "    print(f\"Product {i + 1}: {product_name}, {product_price}\")\n",
    "    \n",
    "    # Append the product details to the list\n",
    "    products.append([product_name, product_price])"
   ]
  },
  {
   "cell_type": "code",
   "execution_count": 13,
   "id": "0d36506f",
   "metadata": {},
   "outputs": [
    {
     "name": "stdout",
     "output_type": "stream",
     "text": [
      "Product data saved to ebay_luxury_sunglasses.csv\n"
     ]
    }
   ],
   "source": [
    "with open('ebay_luxury_sunglasses.csv', 'w', newline='', encoding='utf-8') as file:\n",
    "    writer = csv.writer(file)\n",
    "    writer.writerow([\"Product Name\", \"Price\"])  \n",
    "    writer.writerows(products) \n",
    "\n",
    "    print(\"Product data saved to ebay_luxury_sunglasses.csv\")"
   ]
  },
  {
   "cell_type": "code",
   "execution_count": null,
   "id": "f940f9fa",
   "metadata": {},
   "outputs": [],
   "source": []
  }
 ],
 "metadata": {
  "kernelspec": {
   "display_name": "Python 3 (ipykernel)",
   "language": "python",
   "name": "python3"
  },
  "language_info": {
   "codemirror_mode": {
    "name": "ipython",
    "version": 3
   },
   "file_extension": ".py",
   "mimetype": "text/x-python",
   "name": "python",
   "nbconvert_exporter": "python",
   "pygments_lexer": "ipython3",
   "version": "3.10.9"
  }
 },
 "nbformat": 4,
 "nbformat_minor": 5
}
