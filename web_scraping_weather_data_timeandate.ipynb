{
 "cells": [
  {
   "cell_type": "code",
   "execution_count": 1,
   "id": "09cbd331",
   "metadata": {},
   "outputs": [],
   "source": [
    "import requests\n",
    "from bs4 import BeautifulSoup"
   ]
  },
  {
   "cell_type": "code",
   "execution_count": 2,
   "id": "df8e0396",
   "metadata": {},
   "outputs": [
    {
     "name": "stdout",
     "output_type": "stream",
     "text": [
      "Successfully connected to https://www.timeanddate.com/weather/@2720383\n"
     ]
    }
   ],
   "source": [
    "url = 'https://www.timeanddate.com/weather/@2720383'\n",
    "response = requests.get(url)\n",
    "if response.status_code == 200:\n",
    "    print(f\"Successfully connected to {url}\")"
   ]
  },
  {
   "cell_type": "code",
   "execution_count": 3,
   "id": "59776947",
   "metadata": {},
   "outputs": [],
   "source": [
    "soup = BeautifulSoup(response.content, 'html.parser')"
   ]
  },
  {
   "cell_type": "code",
   "execution_count": 4,
   "id": "3a8becfd",
   "metadata": {},
   "outputs": [
    {
     "name": "stdout",
     "output_type": "stream",
     "text": [
      "Weather in Borlänge, Sweden\n"
     ]
    }
   ],
   "source": [
    "# Step 1 Scarping the banner or heading\n",
    "heading_tag = soup.find('h1', class_='headline-banner__title')\n",
    "heading = heading_tag.get_text(strip=True) if heading_tag else \"Heading not found\"\n",
    "print(heading)"
   ]
  },
  {
   "cell_type": "code",
   "execution_count": 21,
   "id": "df840761",
   "metadata": {},
   "outputs": [
    {
     "name": "stdout",
     "output_type": "stream",
     "text": [
      "Headers: ['måndag Morning', 'måndag Afternoon', 'måndag Evening', 'måndag Night', 'tisdag Morning', 'tisdag Afternoon', 'tisdag Evening', 'tisdag Night']\n",
      "['', 'måndag', 'tisdag', 'onsdag']\n",
      "['', 'Afternoon', 'Evening', 'Night', 'Morning', 'Afternoon', 'Evening', 'Night']\n",
      "['Forecast', 'Drizzle. Cloudy.', 'Sprin\\xadkles. Broken clouds.', 'Clear.', 'Sunny.', 'Sunny.', 'Overcast.', 'Broken clouds.']\n",
      "['Temperature', '10 °C', '5 °C', '2 °C', '1 °C', '8 °C', '3 °C', '3 °C']\n",
      "['', 'Drizzle. Cloudy.', 'Sprin\\xadkles. Broken clouds.', 'Clear.', 'Sunny.', 'Sunny.', 'Overcast.', 'Broken clouds.']\n",
      "['Feels Like', '9 °C', '2 °C', '-1 °C', '-2 °C', '7 °C', '0 °C', '-1 °C']\n",
      "['Wind Speed', '2 m/s', '3 m/s', '3 m/s', '3 m/s', '3 m/s', '3 m/s', '3 m/s']\n",
      "['Wind Direction', 'NNW↑', 'NW↑', 'NW↑', 'WNW↑', 'W↑', 'SW↑', 'SW↑']\n",
      "['Humidity', '79%', '83%', '82%', '80%', '52%', '80%', '91%']\n",
      "['Dew Point', '6 °C', '2 °C', '-1 °C', '-2 °C', '-1 °C', '0 °C', '1 °C']\n",
      "['Visibility', '5 km', '7 km', '9 km', '9 km', '12 km', '9 km', '9 km']\n",
      "['Probability of Precipitation', '31%', '24%', '0%', '0%', '0%', '0%', '0%']\n",
      "['Amount of Rain', '0.6  mm', '0.4  mm', '-', '-', '-', '-', '-']\n",
      "['* Updated måndag den 14 oktober 2024 09:02:56 Borlänge time - Weather by CustomWeather, © 2024']\n"
     ]
    }
   ],
   "source": [
    "# Step 2: Scrape the forecast table\n",
    "table = soup.find('table', id='wt-48')\n",
    "    \n",
    "if table:\n",
    "    # Extract the day headers\n",
    "    day_headers = []\n",
    "    for th in table.find_all('th', colspan=True):\n",
    "        day_headers.append(th.get_text(strip=True))\n",
    "        \n",
    "    # Extract the time period headers\n",
    "        time_headers = ['Morning', 'Afternoon', 'Evening', 'Night']  # Fixed time periods\n",
    "\n",
    "    # Combine day and time headers properly by repeating each day for 4 time periods\n",
    "    headers = []\n",
    "    for day in day_headers:\n",
    "        for time in ['Morning', 'Afternoon', 'Evening', 'Night']:\n",
    "            headers.append(f\"{day} {time}\")\n",
    "\n",
    "    # Extract the table rows (weather data)\n",
    "    weather_data = []\n",
    "    for row in table.find_all('tr'):\n",
    "        cells = []\n",
    "        for td in row.find_all(['td', 'th']):\n",
    "            # Check if there is an <img> tag with a title attribute for the forecast\n",
    "            img_tag = td.find('img', title=True)\n",
    "            if img_tag:\n",
    "                # If an image tag with a title is found, use the title as the forecast\n",
    "                forecast = img_tag['title']\n",
    "                cells.append(forecast)\n",
    "            else:\n",
    "                # Otherwise, extract the text content\n",
    "                text = td.get_text(strip=True).replace('\\xa0', ' ')\n",
    "                cells.append(text)\n",
    "        if any(cells):  # Avoid empty rows\n",
    "            weather_data.append(cells)\n",
    "\n",
    "# Print headers and rows for verification\n",
    "print(\"Headers:\", headers)\n",
    "for row in weather_data:\n",
    "    print(row)"
   ]
  },
  {
   "cell_type": "code",
   "execution_count": 22,
   "id": "3da6774f",
   "metadata": {},
   "outputs": [
    {
     "name": "stdout",
     "output_type": "stream",
     "text": [
      "Weather data successfully saved to weather_data_table.txt in tabular format\n"
     ]
    }
   ],
   "source": [
    "max_column_width = max(len(h) for h in headers)\n",
    "# Prepare data for saving to a text file in a tabular format\n",
    "with open(\"weather_data_table.txt\", \"w\") as file:\n",
    "    # Write the heading\n",
    "    file.write(f\"Weather Heading: {heading}\\n\\n\")\n",
    "\n",
    "    # Write the weather data in tabular format\n",
    "    file.write(\"Weather Forecast:\\n\")\n",
    "    for row in weather_data:\n",
    "        row_line = \"{:<{width}}\".format(\" \", width=max_column_width) + \" | \".join([f\"{r:<{max_column_width}}\" for r in row]) + \"\\n\"\n",
    "        file.write(row_line)\n",
    "\n",
    "print(\"Weather data successfully saved to weather_data_table.txt in tabular format\")"
   ]
  }
 ],
 "metadata": {
  "kernelspec": {
   "display_name": "Python 3 (ipykernel)",
   "language": "python",
   "name": "python3"
  },
  "language_info": {
   "codemirror_mode": {
    "name": "ipython",
    "version": 3
   },
   "file_extension": ".py",
   "mimetype": "text/x-python",
   "name": "python",
   "nbconvert_exporter": "python",
   "pygments_lexer": "ipython3",
   "version": "3.10.9"
  }
 },
 "nbformat": 4,
 "nbformat_minor": 5
}
