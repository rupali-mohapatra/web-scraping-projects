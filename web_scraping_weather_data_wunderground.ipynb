{
 "cells": [
  {
   "cell_type": "markdown",
   "id": "b670bca7",
   "metadata": {},
   "source": [
    "### Task 3: Scrapping weather data\n",
    "#### 1.\tScrape data from two weather websites like timeanddate, wunderground, etc.\n",
    "#### 2.\tHandle errors and exceptions\n",
    "#### 3.\tSave the data locally in a text file or online database like firebase."
   ]
  },
  {
   "cell_type": "code",
   "execution_count": 1,
   "id": "1f4f3062",
   "metadata": {},
   "outputs": [],
   "source": [
    "import requests\n",
    "from bs4 import BeautifulSoup"
   ]
  },
  {
   "cell_type": "markdown",
   "id": "b883d7fa",
   "metadata": {},
   "source": [
    "Scraping Borlänge's weather data from wunderground.com\n",
    "Step 1 - scraping the heading\n",
    "Step 2 - scarping the section containing forecast of today, tonight and tomorrow"
   ]
  },
  {
   "cell_type": "code",
   "execution_count": 2,
   "id": "6a348c76",
   "metadata": {},
   "outputs": [
    {
     "name": "stdout",
     "output_type": "stream",
     "text": [
      "<Response [200]>\n"
     ]
    }
   ],
   "source": [
    "url = 'https://www.wunderground.com/weather/se/borlänge'\n",
    "response=requests.get(url)\n",
    "print(response)"
   ]
  },
  {
   "cell_type": "code",
   "execution_count": 3,
   "id": "79847bce",
   "metadata": {},
   "outputs": [
    {
     "name": "stdout",
     "output_type": "stream",
     "text": [
      "Status Code: 200 - Successfully connected to https://www.wunderground.com/weather/se/borlänge\n"
     ]
    }
   ],
   "source": [
    "if response.status_code == 200:\n",
    "    print(f\"Status Code: {response.status_code} - Successfully connected to {url}\")\n",
    "    soup = BeautifulSoup(response.content, 'html.parser')\n",
    "else:\n",
    "    print(f\"Failed to retrieve data. Status Code: {response.status_code}\")"
   ]
  },
  {
   "cell_type": "code",
   "execution_count": 4,
   "id": "0ad78cc1",
   "metadata": {},
   "outputs": [
    {
     "name": "stdout",
     "output_type": "stream",
     "text": [
      "Borlänge, Dalarna, Sweden Weather Conditions\n"
     ]
    }
   ],
   "source": [
    "#Step 1\n",
    "soup = BeautifulSoup(response.content, 'html.parser')\n",
    "def scrape_heading(soup):\n",
    "    try:\n",
    "        heading_tag = soup.find('h1')\n",
    "        heading_span = heading_tag.find('span')\n",
    "        heading = heading_span.get_text(strip=True) if heading_tag else \"Nothing Found\"\n",
    "        print(heading)\n",
    "        return heading\n",
    "    except Exception as e:\n",
    "        return f\"Error while scraping heading: {e}\"\n",
    "heading = scrape_heading(soup)"
   ]
  },
  {
   "cell_type": "code",
   "execution_count": 5,
   "id": "f983f295",
   "metadata": {},
   "outputs": [
    {
     "name": "stdout",
     "output_type": "stream",
     "text": [
      "Today: Mon 10/14, Temp: High48°F, Precip: 8% Precip./0.00°in\n",
      "Tonight: Mon 10/14, Temp: Low29°F, Precip: 6% Precip./0°\n",
      "Tomorrow: Tue 10/15, Temp: High48°F, Precip: 7% Precip./0.00°in\n"
     ]
    }
   ],
   "source": [
    "#step 2\n",
    "def scrape_forecast(soup):\n",
    "    try:\n",
    "        forecast_divs = soup.find_all('div', class_=\"forecast-wrap\")\n",
    "        forecasts = []\n",
    "        # Loop through each forecast (Today, Tonight, Tomorrow)\n",
    "        for forecast_div in forecast_divs:\n",
    "            # Extract the day (e.g., \"Today\", \"Tonight\", \"Tomorrow\")\n",
    "            day_tag = forecast_div.find('span', class_='day')\n",
    "            day = day_tag.get_text(strip=True) if day_tag else 'No day found'\n",
    "\n",
    "            # Extract the date (e.g., \"Thu 10/10\")\n",
    "            date_tag = forecast_div.find('span', class_='date')\n",
    "            date = date_tag.get_text(strip=True) if date_tag else 'No date found'\n",
    "\n",
    "            # Extract the temperature (e.g., \"High 54°F\")\n",
    "            temp_tag = forecast_div.find('span', class_='primary-temp')\n",
    "            temp = temp_tag.get_text(strip=True) if temp_tag else 'No temperature found'\n",
    "\n",
    "            # Extract the precipitation (e.g., \"100% Precip.\")\n",
    "            precip_tag = forecast_div.find('a', class_='hook')\n",
    "            precip = precip_tag.get_text(strip=True) if precip_tag else 'No precipitation found'\n",
    "\n",
    "            # Append the scraped data to the forecasts list\n",
    "            forecasts.append({\n",
    "                'day': day,\n",
    "                'date': date,\n",
    "                'temperature': temp,\n",
    "                'precipitation': precip\n",
    "            })\n",
    "\n",
    "        # Print the forecasts for verification\n",
    "        for forecast in forecasts:\n",
    "            print(f\"{forecast['day']}: {forecast['date']}, Temp: {forecast['temperature']}, Precip: {forecast['precipitation']}\")\n",
    "\n",
    "        return forecasts\n",
    "\n",
    "    except Exception as e:\n",
    "        return f\"Error while scraping forecast: {e}\"\n",
    "\n",
    "\n",
    "forecasts = scrape_forecast(soup)"
   ]
  },
  {
   "cell_type": "code",
   "execution_count": 6,
   "id": "2a11d373",
   "metadata": {},
   "outputs": [],
   "source": [
    "def save_data_to_file(heading, forecasts, filename='weather_data.txt'):\n",
    "    try:\n",
    "        with open(filename, 'w', encoding='utf-8') as file:\n",
    "            # Write the heading to the file\n",
    "            file.write(f\"Weather Forecast from wunderground: {heading}\\n\\n\")\n",
    "            #print(f\"Weather data from wunderground: {heading}\")  # Print heading to console\n",
    "\n",
    "            # Write the forecast data to the file\n",
    "            for forecast in forecasts:\n",
    "                file.write(f\"{forecast['day']}: {forecast['date']}\\n\")\n",
    "                file.write(f\"Temperature: {forecast['temperature']}\\n\")\n",
    "                file.write(f\"Precipitation: {forecast['precipitation']}\\n\")\n",
    "                file.write(\"\\n\")  # Add a blank line between forecasts\n",
    "\n",
    "                # Print each forecast to the console\n",
    "                print(f\"{forecast['day']}: {forecast['date']}\")\n",
    "                print(f\"Temperature: {forecast['temperature']}\")\n",
    "                print(f\"Precipitation: {forecast['precipitation']}\\n\")\n",
    "\n",
    "        print(f\"Data successfully saved to {filename}\")\n",
    "\n",
    "    except IOError as e:\n",
    "        print(f\"Error while saving data to file: {e}\")"
   ]
  },
  {
   "cell_type": "code",
   "execution_count": 8,
   "id": "eabfde06",
   "metadata": {},
   "outputs": [
    {
     "name": "stdout",
     "output_type": "stream",
     "text": [
      "Status Code: 200 - Successfully connected to https://www.wunderground.com/weather/se/borlänge\n",
      "Borlänge, Dalarna, Sweden Weather Conditions\n",
      "Today: Mon 10/14, Temp: High48°F, Precip: 8% Precip./0.00°in\n",
      "Tonight: Mon 10/14, Temp: Low29°F, Precip: 6% Precip./0°\n",
      "Tomorrow: Tue 10/15, Temp: High48°F, Precip: 7% Precip./0.00°in\n",
      "Weather data from wunderground: Borlänge, Dalarna, Sweden Weather Conditions\n",
      "Today: Mon 10/14\n",
      "Temperature: High48°F\n",
      "Precipitation: 8% Precip./0.00°in\n",
      "\n",
      "Tonight: Mon 10/14\n",
      "Temperature: Low29°F\n",
      "Precipitation: 6% Precip./0°\n",
      "\n",
      "Tomorrow: Tue 10/15\n",
      "Temperature: High48°F\n",
      "Precipitation: 7% Precip./0.00°in\n",
      "\n",
      "Data successfully saved to weather_data.txt\n"
     ]
    }
   ],
   "source": [
    "def main():\n",
    "    url = 'https://www.wunderground.com/weather/se/borlänge'\n",
    "    response = requests.get(url)\n",
    "\n",
    "    if response.status_code == 200:\n",
    "        print(f\"Status Code: {response.status_code} - Successfully connected to {url}\")\n",
    "        \n",
    "        # Parse the HTML content using BeautifulSoup\n",
    "        soup = BeautifulSoup(response.content, 'html.parser')\n",
    "\n",
    "        # Scrape the heading\n",
    "        heading = scrape_heading(soup)\n",
    "\n",
    "        # Scrape the forecast\n",
    "        forecasts = scrape_forecast(soup)\n",
    "\n",
    "        # Save the data to a text file\n",
    "        save_data_to_file(heading, forecasts)\n",
    "\n",
    "    else:\n",
    "        print(f\"Failed to retrieve data. Status Code: {response.status_code}\")\n",
    "\n",
    "# Step 5: Call the main function\n",
    "if __name__ == '__main__':\n",
    "    main()"
   ]
  }
 ],
 "metadata": {
  "kernelspec": {
   "display_name": "Python 3 (ipykernel)",
   "language": "python",
   "name": "python3"
  },
  "language_info": {
   "codemirror_mode": {
    "name": "ipython",
    "version": 3
   },
   "file_extension": ".py",
   "mimetype": "text/x-python",
   "name": "python",
   "nbconvert_exporter": "python",
   "pygments_lexer": "ipython3",
   "version": "3.10.9"
  }
 },
 "nbformat": 4,
 "nbformat_minor": 5
}
